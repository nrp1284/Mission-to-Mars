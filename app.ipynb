{
 "cells": [
  {
   "cell_type": "code",
   "execution_count": 4,
   "id": "8b886572",
   "metadata": {},
   "outputs": [
    {
     "name": "stdout",
     "output_type": "stream",
     "text": [
      "Requirement already satisfied: pymongo in c:\\anaconda\\envs\\pythondata\\lib\\site-packages (3.12.0)\n",
      "Note: you may need to restart the kernel to use updated packages.\n"
     ]
    }
   ],
   "source": [
    "pip install pymongo"
   ]
  },
  {
   "cell_type": "code",
   "execution_count": 5,
   "id": "ca0bec0f",
   "metadata": {},
   "outputs": [
    {
     "name": "stdout",
     "output_type": "stream",
     "text": [
      "Requirement already satisfied: flask_pymongo in c:\\anaconda\\envs\\pythondata\\lib\\site-packages (2.3.0)\n",
      "Requirement already satisfied: PyMongo>=3.3 in c:\\anaconda\\envs\\pythondata\\lib\\site-packages (from flask_pymongo) (3.12.0)\n",
      "Requirement already satisfied: Flask>=0.11 in c:\\anaconda\\envs\\pythondata\\lib\\site-packages (from flask_pymongo) (1.1.2)\n",
      "Requirement already satisfied: Jinja2>=2.10.1 in c:\\anaconda\\envs\\pythondata\\lib\\site-packages (from Flask>=0.11->flask_pymongo) (2.11.3)\n",
      "Requirement already satisfied: click>=5.1 in c:\\anaconda\\envs\\pythondata\\lib\\site-packages (from Flask>=0.11->flask_pymongo) (7.1.2)\n",
      "Requirement already satisfied: itsdangerous>=0.24 in c:\\anaconda\\envs\\pythondata\\lib\\site-packages (from Flask>=0.11->flask_pymongo) (1.1.0)\n",
      "Requirement already satisfied: Werkzeug>=0.15 in c:\\anaconda\\envs\\pythondata\\lib\\site-packages (from Flask>=0.11->flask_pymongo) (1.0.1)\n",
      "Requirement already satisfied: MarkupSafe>=0.23 in c:\\anaconda\\envs\\pythondata\\lib\\site-packages (from Jinja2>=2.10.1->Flask>=0.11->flask_pymongo) (1.1.1)\n",
      "Note: you may need to restart the kernel to use updated packages.\n"
     ]
    }
   ],
   "source": [
    "pip install flask_pymongo"
   ]
  },
  {
   "cell_type": "code",
   "execution_count": null,
   "id": "1f93ccd3",
   "metadata": {},
   "outputs": [
    {
     "name": "stderr",
     "output_type": "stream",
     "text": [
      "[WDM] - \n",
      "\n",
      "[WDM] - ====== WebDriver manager ======\n",
      "[WDM] - Current google-chrome version is 94.0.4606\n",
      "[WDM] - Get LATEST driver version for 94.0.4606\n",
      "[WDM] - Driver [C:\\Users\\JAY PATEL\\.wdm\\drivers\\chromedriver\\win32\\94.0.4606.61\\chromedriver.exe] found in cache\n"
     ]
    },
    {
     "name": "stdout",
     "output_type": "stream",
     "text": [
      " * Serving Flask app \"__main__\" (lazy loading)\n",
      " * Environment: production\n",
      "   WARNING: This is a development server. Do not use it in a production deployment.\n",
      "   Use a production WSGI server instead.\n",
      " * Debug mode: off\n"
     ]
    },
    {
     "name": "stderr",
     "output_type": "stream",
     "text": [
      " * Running on http://127.0.0.1:5000/ (Press CTRL+C to quit)\n"
     ]
    }
   ],
   "source": [
    "from flask import Flask, render_template, redirect, url_for\n",
    "from flask_pymongo import PyMongo\n",
    "import re\n",
    "import scraping\n",
    "\n",
    "\n",
    "# The first line says that we'll use Flask to render a template,\n",
    "# redirecting to another url, and creating a URL.\n",
    "# The second line says we'll use PyMongo to interact with our Mongo database.\n",
    "# The third line says that to use the scraping code,\n",
    "# convert from Jupyter notebook to Python.\n",
    "\n",
    "# set up Flask:\n",
    "app = Flask(__name__)\n",
    "\n",
    "# connect to Mongo using PyMongo.\n",
    "# Use flask_pymongo to set up mongo connection\n",
    "# app.config[\"MONGO_URI\"] tells Python that our app will connect to Mongo using a URI, \n",
    "# a uniform resource identifier similar to a URL.\n",
    "# \"mongodb://localhost:27017/mars_app\" is the URI we'll be\n",
    "# using to connect our app to Mongo. This URI is saying\n",
    "# that the app can reach Mongo through our localhost\n",
    "# server, using port 27017, using a database \n",
    "# named \"mars_app\".\n",
    "app.config[\"MONGO_URI\"] = \"mongodb://localhost:27017/mars_app\"\n",
    "mongo = PyMongo(app)\n",
    "\n",
    "# Set Up App Routes\n",
    "# First, define the route for the HTML page.\n",
    "@app.route(\"/\")\n",
    "def index():\n",
    "   mars = mongo.db.mars.find_one()\n",
    "   return render_template(\"index.html\", mars=mars)\n",
    "# add the next route and function\n",
    "@app.route(\"/scrape\")\n",
    "def scrape():\n",
    "   mars = mongo.db.mars\n",
    "   mars_data = scraping.scrape_all()\n",
    "   mars.update({}, mars_data, upsert=True)\n",
    "   return redirect('/', code=302)\n",
    "# update the database using .update()\n",
    "   mars.update(query_parameter, data, options)\n",
    "   return redirect('/', code=302)\n",
    "if __name__ == \"__main__\":\n",
    "   app.run()"
   ]
  },
  {
   "cell_type": "code",
   "execution_count": null,
   "id": "901211a4",
   "metadata": {},
   "outputs": [],
   "source": []
  }
 ],
 "metadata": {
  "kernelspec": {
   "display_name": "PythonData",
   "language": "python",
   "name": "pythondata"
  },
  "language_info": {
   "codemirror_mode": {
    "name": "ipython",
    "version": 3
   },
   "file_extension": ".py",
   "mimetype": "text/x-python",
   "name": "python",
   "nbconvert_exporter": "python",
   "pygments_lexer": "ipython3",
   "version": "3.7.10"
  }
 },
 "nbformat": 4,
 "nbformat_minor": 5
}
